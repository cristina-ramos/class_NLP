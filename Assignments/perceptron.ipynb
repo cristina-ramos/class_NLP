{
  "nbformat": 4,
  "nbformat_minor": 0,
  "metadata": {
    "colab": {
      "name": "perceptron.ipynb",
      "provenance": [],
      "collapsed_sections": [],
      "authorship_tag": "ABX9TyOcBPYW50Gj4HurfeRY3G7Q",
      "include_colab_link": true
    },
    "kernelspec": {
      "name": "python3",
      "display_name": "Python 3"
    }
  },
  "cells": [
    {
      "cell_type": "markdown",
      "metadata": {
        "id": "view-in-github",
        "colab_type": "text"
      },
      "source": [
        "<a href=\"https://colab.research.google.com/github/cristina-ramos/class_NLP/blob/main/Assignments/perceptron.ipynb\" target=\"_parent\"><img src=\"https://colab.research.google.com/assets/colab-badge.svg\" alt=\"Open In Colab\"/></a>"
      ]
    },
    {
      "cell_type": "code",
      "metadata": {
        "id": "5xAxlAghW1ik"
      },
      "source": [
        "import nltk\n",
        "from nltk.corpus import stopwords\n",
        "from nltk import FreqDist\n",
        "import glob\n",
        "import string\n",
        "import random\n",
        "import pandas as pd\n",
        "from random import choice\n",
        "from pandas import DataFrame\n",
        "from sklearn.linear_model import Perceptron\n",
        "from sklearn.model_selection import train_test_split\n",
        "from sklearn.metrics import accuracy_score\n",
        "from sklearn.metrics import classification_report\n",
        "import matplotlib.pyplot as plt\n",
        "import numpy as np\n",
        "from sklearn.feature_extraction import DictVectorizer"
      ],
      "execution_count": null,
      "outputs": []
    },
    {
      "cell_type": "code",
      "metadata": {
        "id": "fHg3q8YVWlMR"
      },
      "source": [
        "!wget 'http://www.cs.cornell.edu/people/pabo/movie-review-data/review_polarity.tar.gz'\n",
        "!tar -xf review_polarity.tar.gz"
      ],
      "execution_count": null,
      "outputs": []
    },
    {
      "cell_type": "markdown",
      "metadata": {
        "id": "hzKhJLJw4UUh"
      },
      "source": [
        "> This is the same text pre-processing code from the Log Regression code:"
      ]
    },
    {
      "cell_type": "code",
      "metadata": {
        "id": "DQxr3mY6WpvL",
        "colab": {
          "base_uri": "https://localhost:8080/"
        },
        "outputId": "58feb3ab-c96d-442c-9683-e998387a8b69"
      },
      "source": [
        "neg_entries = glob.glob('/content/txt_sentoken/neg/*.txt')\n",
        "pos_entries = glob.glob('/content/txt_sentoken/pos/*.txt')\n",
        "print(\"Total entries in pos folder:\", len(pos_entries))\n",
        "print(\"Total entries in neg folder:\", len(neg_entries))"
      ],
      "execution_count": null,
      "outputs": [
        {
          "output_type": "stream",
          "text": [
            "Total entries in pos folder: 1000\n",
            "Total entries in neg folder: 1000\n"
          ],
          "name": "stdout"
        }
      ]
    },
    {
      "cell_type": "code",
      "metadata": {
        "id": "rro9HarGWryA"
      },
      "source": [
        "nltk.download('stopwords')\n",
        "stops = set(stopwords.words('english'))"
      ],
      "execution_count": null,
      "outputs": []
    },
    {
      "cell_type": "code",
      "metadata": {
        "id": "8Yi_nkyNWuMZ",
        "colab": {
          "base_uri": "https://localhost:8080/"
        },
        "outputId": "cea567b9-85e6-4083-947a-0bc0d6a80825"
      },
      "source": [
        "#combining both folders into one list:\n",
        "total_entries = []\n",
        "\n",
        "def merge_entry(directory):\n",
        "  for fn in directory:\n",
        "    if fn in neg_entries:\n",
        "      with open(fn) as f:\n",
        "        message = f.read().split()\n",
        "        for w in message:\n",
        "          if w not in string.punctuation:\n",
        "            total_entries.append(w)\n",
        "    elif fn in pos_entries:\n",
        "      with open(fn) as f:\n",
        "        message = f.read().split()\n",
        "        for w in message:\n",
        "          if w not in string.punctuation:\n",
        "            total_entries.append(w)\n",
        "\n",
        "merge_entry(pos_entries)\n",
        "merge_entry(neg_entries)\n",
        "print(\"The total number of words in the merged entries is:\", len(total_entries))"
      ],
      "execution_count": null,
      "outputs": [
        {
          "output_type": "stream",
          "text": [
            "The total number of words in the merged entries is: 1294462\n"
          ],
          "name": "stdout"
        }
      ]
    },
    {
      "cell_type": "code",
      "metadata": {
        "id": "df7YI-GYWvIC",
        "colab": {
          "base_uri": "https://localhost:8080/"
        },
        "outputId": "89587e65-8c26-46dd-b04e-109ee954a252"
      },
      "source": [
        "#Removing stop words\n",
        "total_words = [w for w in total_entries if w not in stops]\n",
        "print(\"The total number of words is:\", len(total_words))"
      ],
      "execution_count": null,
      "outputs": [
        {
          "output_type": "stream",
          "text": [
            "The total number of words is: 705486\n"
          ],
          "name": "stdout"
        }
      ]
    },
    {
      "cell_type": "code",
      "metadata": {
        "id": "I_rVk9V_Wy7W",
        "colab": {
          "base_uri": "https://localhost:8080/"
        },
        "outputId": "a91cde44-530f-4316-8b30-3d09c303bf6d"
      },
      "source": [
        "#getting the top 100 words as our feature list:\n",
        "fdist = FreqDist(total_words)\n",
        "vocab = fdist.most_common(1000)\n",
        "\n",
        "#adding features:\n",
        "total_texts = pos_entries + neg_entries\n",
        "texts = []\n",
        "for fn in total_texts:\n",
        "  if fn in pos_entries:\n",
        "    cat = 1\n",
        "  else:\n",
        "    cat = 0\n",
        "  with open(fn) as f:\n",
        "    message = f.read().split()\n",
        "    message = [w.rstrip(string.punctuation) for w in message]\n",
        "    message = [w.lower() for w in message]\n",
        "    message = [i for i in message if i]\n",
        "    message = [word for word in message if word not in stops]\n",
        "    texts.append((message, cat))\n",
        "len(texts)"
      ],
      "execution_count": null,
      "outputs": [
        {
          "output_type": "execute_result",
          "data": {
            "text/plain": [
              "2000"
            ]
          },
          "metadata": {
            "tags": []
          },
          "execution_count": 10
        }
      ]
    },
    {
      "cell_type": "code",
      "metadata": {
        "id": "CeCS4pl-W6nm",
        "colab": {
          "base_uri": "https://localhost:8080/"
        },
        "outputId": "b61aa289-f4f2-4c56-8204-4ae022054359"
      },
      "source": [
        "#assigning features to the pos and neg labels:\n",
        "def get_features(document):\n",
        "  feature = dict()\n",
        "  for key, value in vocab:\n",
        "    if key in document:\n",
        "      feature[key] = 1\n",
        "    else:\n",
        "      feature[key] = 0\n",
        "  return feature\n",
        "doc_features = [(get_features(message), cat) for (message, cat) in texts]\n",
        "len(doc_features)"
      ],
      "execution_count": null,
      "outputs": [
        {
          "output_type": "execute_result",
          "data": {
            "text/plain": [
              "2000"
            ]
          },
          "metadata": {
            "tags": []
          },
          "execution_count": 11
        }
      ]
    },
    {
      "cell_type": "code",
      "metadata": {
        "id": "RkDUWlLdW85B"
      },
      "source": [
        "#splitting the data into testing and training:\n",
        "traindata, testdata = train_test_split(doc_features, test_size=0.2, random_state=1)\n",
        "\n",
        "train = pd.DataFrame(traindata, columns=['Features', 'Labels'])\n",
        "test = pd.DataFrame(testdata, columns=['Features', 'Labels'])\n",
        "\n",
        "train_feats = train['Features']\n",
        "test_feats = test['Features']\n",
        "\n",
        "train_labels = train['Labels']\n",
        "test_labels = test['Labels']"
      ],
      "execution_count": null,
      "outputs": []
    },
    {
      "cell_type": "code",
      "metadata": {
        "id": "QjGfreW3W-s6",
        "colab": {
          "base_uri": "https://localhost:8080/"
        },
        "outputId": "a5ee8286-9fa8-45df-921e-fcc798783b0a"
      },
      "source": [
        "vector = DictVectorizer(sparse = False)\n",
        "x_train = vector.fit_transform(train_feats.values)\n",
        "x_test = vector.transform(test_feats)\n",
        "\n",
        "y_train = train_labels.values\n",
        "y_test = test_labels.values\n",
        "len(y_test)"
      ],
      "execution_count": null,
      "outputs": [
        {
          "output_type": "execute_result",
          "data": {
            "text/plain": [
              "400"
            ]
          },
          "metadata": {
            "tags": []
          },
          "execution_count": 13
        }
      ]
    },
    {
      "cell_type": "code",
      "metadata": {
        "id": "K14QvGusXAZk",
        "colab": {
          "base_uri": "https://localhost:8080/"
        },
        "outputId": "4df678a8-a82c-4264-be82-9373bab1aa2b"
      },
      "source": [
        "print(len(x_train))\n",
        "print(len(y_train))"
      ],
      "execution_count": null,
      "outputs": [
        {
          "output_type": "stream",
          "text": [
            "1600\n",
            "1600\n"
          ],
          "name": "stdout"
        }
      ]
    },
    {
      "cell_type": "markdown",
      "metadata": {
        "id": "KjNUl_GVV7I_"
      },
      "source": [
        "> Perceptron:"
      ]
    },
    {
      "cell_type": "code",
      "metadata": {
        "id": "puBBqJ8nWdOK"
      },
      "source": [
        "class perceptron:\n",
        "\n",
        "    def __init__(self, learn_rate=0.01, iters=100):\n",
        "      self.lr = learn_rate\n",
        "      self.iters = iters\n",
        "      self.weights = []\n",
        "      self.activation = self.activation\n",
        "\n",
        "    def activation(self, x):\n",
        "      return np.where(x >= 0, 1, 0)\n",
        "\n",
        "    def predict(self, X):\n",
        "      lin_out = np.dot(X, self.weights) + self.bias\n",
        "      y_predict = self.activation(lin_out)\n",
        "      return y_predict\n",
        "\n",
        "    #initializing weights and bias\n",
        "    def fit(self, X, y):\n",
        "      n_samples, n_feats = X.shape\n",
        "      self.weights = np.zeros(n_feats)\n",
        "      self.bias = 0\n",
        "      y_i = np.array([1 if i > 0 else 0 for i in y])\n",
        "      #computing activation based on the algorithim\n",
        "      for i in range(self.iters):\n",
        "        for index, x_i in enumerate(X):\n",
        "          lin_out = np.dot(x_i, self.weights) + self.bias\n",
        "          y_predicted = self.activation(lin_out)\n",
        "          #updating weights and bias\n",
        "          update = self.lr * (y_i[index] - y_predicted)\n",
        "          self.weights += update * x_i\n",
        "          self.bias += update\n",
        "    \n",
        "    #loss function \n",
        "    def loss_plt(self, X, Y):\n",
        "      w = self.weights\n",
        "      lr = self.lr\n",
        "      n = self.iters\n",
        "      errors = []\n",
        "      for i in range(n):\n",
        "        total_error = 0\n",
        "        for i, x in enumerate(X):\n",
        "          if (np.dot(X[i], w) * Y[i]) <= 0:\n",
        "            total_error += (np.dot(X[i], w) * Y[i])\n",
        "            w = w + lr * X[i] * Y[i]\n",
        "        errors.append(total_error*-1)\n",
        "      plt.plot(errors)\n",
        "      plt.xlabel('Iterations')\n",
        "      plt.ylabel('Total Loss')\n",
        "      return w"
      ],
      "execution_count": null,
      "outputs": []
    },
    {
      "cell_type": "code",
      "metadata": {
        "id": "2RhvyTG0XLuI",
        "colab": {
          "base_uri": "https://localhost:8080/"
        },
        "outputId": "5c303d54-759f-44e2-91dc-c2ccc5a15780"
      },
      "source": [
        "#testing the system and calculating the accuracy, precision, recall, etc. \n",
        "p = perceptron(learn_rate=.01, iters=100)\n",
        "p.fit(x_train, y_train)\n",
        "y_pred = p.predict(x_test)\n",
        "scores = classification_report(y_test, y_pred, labels=None)\n",
        "print(scores)"
      ],
      "execution_count": null,
      "outputs": [
        {
          "output_type": "stream",
          "text": [
            "              precision    recall  f1-score   support\n",
            "\n",
            "           0       0.79      0.80      0.79       205\n",
            "           1       0.78      0.78      0.78       195\n",
            "\n",
            "    accuracy                           0.79       400\n",
            "   macro avg       0.79      0.79      0.79       400\n",
            "weighted avg       0.79      0.79      0.79       400\n",
            "\n"
          ],
          "name": "stdout"
        }
      ]
    },
    {
      "cell_type": "code",
      "metadata": {
        "id": "9gUZs0v6JLpm",
        "colab": {
          "base_uri": "https://localhost:8080/",
          "height": 1000
        },
        "outputId": "d442ad52-e39d-4d27-d730-a7da23ebc7a1"
      },
      "source": [
        "#getting the avg loss for the training documents....I don't think this is right especially the plot, I don't think it's meant to be like that.\n",
        "plot_train = print(p.loss_plt(x_train, y_train))"
      ],
      "execution_count": null,
      "outputs": [
        {
          "output_type": "stream",
          "text": [
            "[ 0.00000000e+00 -6.00000000e-02 -1.90000000e-01 -1.30000000e-01\n",
            " -1.30000000e-01  5.00000000e-02  1.60000000e-01  4.00000000e-02\n",
            " -2.00000000e-02 -4.00000000e-02 -1.10000000e-01 -1.10000000e-01\n",
            "  1.00000000e-01  1.00000000e-01 -4.00000000e-02  2.00000000e-02\n",
            " -8.00000000e-02 -5.00000000e-02  1.20000000e-01 -1.20000000e-01\n",
            " -2.00000000e-01 -3.00000000e-02  1.10000000e-01  1.20000000e-01\n",
            "  2.00000000e-02 -1.00000000e-02 -1.00000000e-01 -1.00000000e-02\n",
            "  8.00000000e-02 -3.00000000e-02  1.30000000e-01  9.00000000e-02\n",
            "  1.60000000e-01 -1.00000000e-02  8.00000000e-02  1.80000000e-01\n",
            "  8.00000000e-02  6.00000000e-02 -3.00000000e-02 -1.00000000e-02\n",
            "  1.80000000e-01 -2.70000000e-01  6.00000000e-02 -1.00000000e-01\n",
            "  9.00000000e-02 -1.30000000e-01 -1.70000000e-01  5.00000000e-02\n",
            " -4.00000000e-02 -7.00000000e-02  1.00000000e-02 -4.00000000e-02\n",
            " -1.40000000e-01 -6.00000000e-02  3.00000000e-02  7.00000000e-02\n",
            "  3.46944695e-18  7.00000000e-02 -1.20000000e-01 -1.80000000e-01\n",
            "  2.00000000e-01 -9.00000000e-02  6.00000000e-02 -3.00000000e-02\n",
            " -5.10000000e-01  9.00000000e-02 -1.60000000e-01 -3.40000000e-01\n",
            "  9.00000000e-02 -3.00000000e-02 -1.20000000e-01 -8.00000000e-02\n",
            "  3.00000000e-02  1.20000000e-01  1.10000000e-01 -9.00000000e-02\n",
            " -1.00000000e-01  8.00000000e-02  6.00000000e-02  1.70000000e-01\n",
            "  9.00000000e-02 -3.46944695e-18  2.50000000e-01  1.60000000e-01\n",
            "  2.00000000e-02  3.00000000e-02  3.46944695e-18 -1.80000000e-01\n",
            "  1.70000000e-01  6.00000000e-02 -5.00000000e-02 -2.00000000e-02\n",
            " -1.30000000e-01  6.00000000e-02  9.00000000e-02 -5.00000000e-02\n",
            " -3.90000000e-01 -1.60000000e-01 -8.00000000e-02  1.40000000e-01\n",
            " -5.00000000e-02  2.10000000e-01  1.20000000e-01  5.00000000e-02\n",
            " -4.00000000e-02 -1.00000000e-02 -1.00000000e-02  1.00000000e-01\n",
            " -8.00000000e-02 -1.20000000e-01 -5.00000000e-02 -1.30000000e-01\n",
            "  1.40000000e-01  8.00000000e-02 -1.00000000e-02 -4.00000000e-02\n",
            " -5.00000000e-02  1.80000000e-01 -3.00000000e-02 -6.00000000e-02\n",
            " -1.70000000e-01 -2.10000000e-01 -1.00000000e-02  3.00000000e-02\n",
            " -3.46944695e-18  7.00000000e-02 -5.00000000e-02 -9.00000000e-02\n",
            "  4.00000000e-02 -1.20000000e-01 -8.00000000e-02 -3.00000000e-02\n",
            "  9.00000000e-02  3.10000000e-01 -4.00000000e-02 -8.00000000e-02\n",
            " -5.00000000e-02 -7.00000000e-02 -1.40000000e-01  2.10000000e-01\n",
            " -5.00000000e-02 -2.30000000e-01 -3.46944695e-18  4.00000000e-02\n",
            "  7.00000000e-02 -5.00000000e-02  4.00000000e-02 -4.00000000e-02\n",
            "  2.60000000e-01  1.80000000e-01  2.00000000e-02  6.00000000e-02\n",
            "  1.50000000e-01 -5.00000000e-02 -3.46944695e-18 -1.00000000e-02\n",
            "  1.00000000e-02  1.00000000e-02 -7.00000000e-02 -1.40000000e-01\n",
            " -2.00000000e-02  1.00000000e-02 -7.00000000e-02 -2.00000000e-02\n",
            "  4.00000000e-02 -6.00000000e-02 -1.00000000e-02 -2.00000000e-02\n",
            "  5.00000000e-02 -2.00000000e-02 -2.00000000e-02 -3.00000000e-02\n",
            " -5.00000000e-02 -1.20000000e-01  1.00000000e-02 -1.20000000e-01\n",
            " -1.00000000e-02  2.20000000e-01 -5.00000000e-02  8.00000000e-02\n",
            " -1.00000000e-02 -2.00000000e-02 -5.00000000e-02  9.00000000e-02\n",
            " -8.00000000e-02 -1.10000000e-01  3.00000000e-02  6.00000000e-02\n",
            "  1.20000000e-01  6.00000000e-02  2.00000000e-02  8.00000000e-02\n",
            "  3.00000000e-02  1.00000000e-02  1.00000000e-02 -3.46944695e-18\n",
            "  2.00000000e-02 -1.40000000e-01  8.00000000e-02  3.00000000e-02\n",
            "  1.00000000e-02  3.10000000e-01  1.70000000e-01  2.00000000e-02\n",
            "  2.00000000e-02  1.10000000e-01  1.50000000e-01 -5.00000000e-02\n",
            " -1.40000000e-01  2.20000000e-01  5.00000000e-02 -2.00000000e-02\n",
            "  5.00000000e-02 -1.80000000e-01  1.50000000e-01 -1.40000000e-01\n",
            " -9.00000000e-02 -5.00000000e-02  1.00000000e-02  1.10000000e-01\n",
            " -3.46944695e-18  1.10000000e-01  2.00000000e-02 -3.00000000e-02\n",
            "  1.30000000e-01  7.00000000e-02 -1.20000000e-01 -1.80000000e-01\n",
            " -6.00000000e-02  2.00000000e-02 -5.00000000e-02  1.90000000e-01\n",
            "  1.00000000e-01  1.80000000e-01 -1.00000000e-02 -3.00000000e-02\n",
            "  1.40000000e-01  7.00000000e-02  1.00000000e-01 -1.20000000e-01\n",
            " -3.00000000e-02 -9.00000000e-02 -1.00000000e-01  5.00000000e-02\n",
            " -7.00000000e-02  8.00000000e-02 -1.00000000e-02  2.00000000e-02\n",
            " -5.00000000e-02  4.00000000e-02  1.80000000e-01 -1.90000000e-01\n",
            "  1.40000000e-01  6.00000000e-02 -1.00000000e-01 -4.00000000e-02\n",
            "  2.00000000e-02  2.10000000e-01  7.00000000e-02 -3.00000000e-02\n",
            " -1.00000000e-01  1.90000000e-01  3.00000000e-02  2.00000000e-02\n",
            "  1.00000000e-01  1.60000000e-01  8.00000000e-02  5.00000000e-02\n",
            "  1.00000000e-01  2.50000000e-01 -7.00000000e-02  1.30000000e-01\n",
            "  8.00000000e-02 -3.00000000e-02  1.70000000e-01  1.50000000e-01\n",
            "  1.60000000e-01 -3.46944695e-18  5.00000000e-02 -3.00000000e-02\n",
            " -1.60000000e-01  3.10000000e-01 -1.30000000e-01 -1.00000000e-01\n",
            " -6.00000000e-02  7.00000000e-02 -1.00000000e-02 -8.00000000e-02\n",
            " -7.00000000e-02 -1.00000000e-02  1.00000000e-01  1.20000000e-01\n",
            "  3.00000000e-02  4.00000000e-02  1.10000000e-01  1.40000000e-01\n",
            " -6.00000000e-02 -1.00000000e-01  1.20000000e-01  3.00000000e-02\n",
            " -1.80000000e-01  1.40000000e-01 -2.00000000e-02 -1.00000000e-01\n",
            " -5.00000000e-02 -3.00000000e-02  2.00000000e-02 -2.00000000e-01\n",
            " -5.00000000e-02 -3.46944695e-18  5.00000000e-02  1.00000000e-02\n",
            "  1.30000000e-01  6.00000000e-02  1.00000000e-01  7.00000000e-02\n",
            "  1.00000000e-01 -3.00000000e-01 -1.60000000e-01 -6.00000000e-02\n",
            "  7.00000000e-02  2.00000000e-02  2.00000000e-01  2.00000000e-02\n",
            " -3.00000000e-02  6.00000000e-02 -5.00000000e-02 -4.00000000e-02\n",
            "  3.46944695e-18  1.90000000e-01  1.90000000e-01 -1.00000000e-01\n",
            " -5.00000000e-02 -8.00000000e-02  2.00000000e-02  3.46944695e-18\n",
            " -1.00000000e-01  2.20000000e-01 -3.00000000e-02 -5.00000000e-02\n",
            "  8.00000000e-02  4.00000000e-02  1.60000000e-01  1.20000000e-01\n",
            "  2.00000000e-02 -3.46944695e-18 -9.00000000e-02 -7.00000000e-02\n",
            " -1.60000000e-01 -9.00000000e-02 -1.00000000e-02 -4.00000000e-02\n",
            " -8.00000000e-02 -2.10000000e-01  1.20000000e-01 -1.90000000e-01\n",
            "  1.50000000e-01 -4.00000000e-02  7.00000000e-02  8.00000000e-02\n",
            " -5.00000000e-02 -1.00000000e-02  4.00000000e-02 -9.00000000e-02\n",
            "  1.20000000e-01 -1.30000000e-01  1.00000000e-01  7.00000000e-02\n",
            "  1.00000000e-02  3.46944695e-18 -5.00000000e-02  1.40000000e-01\n",
            " -2.00000000e-02  6.00000000e-02 -4.00000000e-02 -7.00000000e-02\n",
            "  8.00000000e-02 -2.00000000e-02 -8.00000000e-02  1.60000000e-01\n",
            " -1.00000000e-02 -1.00000000e-01 -4.00000000e-02 -3.00000000e-02\n",
            " -1.00000000e-02  3.00000000e-02  3.46944695e-18  1.00000000e-02\n",
            "  1.10000000e-01  1.10000000e-01 -1.00000000e-02 -6.00000000e-02\n",
            "  2.00000000e-02  2.40000000e-01  2.70000000e-01 -3.46944695e-18\n",
            " -1.00000000e-02 -7.00000000e-02 -1.00000000e-02  3.00000000e-02\n",
            "  1.30000000e-01 -8.00000000e-02 -9.00000000e-02  1.00000000e-02\n",
            "  5.00000000e-02  3.00000000e-02 -2.00000000e-02 -1.50000000e-01\n",
            "  1.00000000e-02  1.10000000e-01 -1.00000000e-01  6.00000000e-02\n",
            "  1.10000000e-01  5.00000000e-02 -9.00000000e-02 -1.60000000e-01\n",
            "  2.00000000e-02  7.00000000e-02 -4.00000000e-02 -7.00000000e-02\n",
            " -8.00000000e-02  7.00000000e-02  4.00000000e-02  1.20000000e-01\n",
            "  3.00000000e-02  3.46944695e-18 -5.00000000e-02  1.00000000e-01\n",
            "  1.30000000e-01 -2.30000000e-01  6.00000000e-02 -6.00000000e-02\n",
            " -9.00000000e-02 -2.00000000e-02  1.10000000e-01 -8.00000000e-02\n",
            " -7.00000000e-02  1.20000000e-01 -1.00000000e-02  2.10000000e-01\n",
            " -6.00000000e-02 -1.00000000e-02  1.70000000e-01  1.20000000e-01\n",
            "  9.00000000e-02 -6.00000000e-02 -5.00000000e-02 -4.00000000e-02\n",
            "  1.30000000e-01  1.90000000e-01 -1.80000000e-01  6.00000000e-02\n",
            " -3.00000000e-02 -2.00000000e-02  1.00000000e-02 -1.40000000e-01\n",
            "  5.00000000e-02  2.00000000e-02  1.00000000e-01 -4.00000000e-02\n",
            " -7.00000000e-02  9.00000000e-02  6.00000000e-02  3.00000000e-02\n",
            " -1.00000000e-02  3.00000000e-02  6.00000000e-02 -3.00000000e-02\n",
            " -1.20000000e-01 -8.00000000e-02  7.00000000e-02  1.40000000e-01\n",
            " -4.00000000e-02  9.00000000e-02 -2.00000000e-02  3.00000000e-02\n",
            "  5.00000000e-02  1.00000000e-02 -1.00000000e-02  7.00000000e-02\n",
            " -4.00000000e-02  9.00000000e-02 -2.00000000e-01  1.00000000e-02\n",
            "  1.10000000e-01  2.00000000e-02 -5.00000000e-02 -7.00000000e-02\n",
            "  1.00000000e-01 -3.00000000e-02  7.00000000e-02  1.10000000e-01\n",
            "  1.00000000e-01 -1.40000000e-01  1.00000000e-02 -1.00000000e-01\n",
            "  1.00000000e-02  1.00000000e-01 -1.10000000e-01 -4.00000000e-02\n",
            " -8.00000000e-02 -7.00000000e-02  3.00000000e-02  1.10000000e-01\n",
            " -1.20000000e-01 -7.00000000e-02 -6.00000000e-02 -7.00000000e-02\n",
            " -1.10000000e-01 -5.00000000e-02 -1.00000000e-02  5.00000000e-02\n",
            " -5.00000000e-02 -2.00000000e-02  6.00000000e-02  3.46944695e-18\n",
            " -1.70000000e-01  7.00000000e-02  1.00000000e-02  2.00000000e-02\n",
            "  2.00000000e-02  2.00000000e-02  3.00000000e-02  1.00000000e-02\n",
            " -4.00000000e-02  9.00000000e-02  3.00000000e-02  9.00000000e-02\n",
            " -1.90000000e-01  8.00000000e-02 -8.00000000e-02  8.00000000e-02\n",
            " -2.30000000e-01  1.00000000e-02  1.30000000e-01  4.00000000e-02\n",
            " -3.00000000e-02  2.00000000e-02 -6.00000000e-02 -1.50000000e-01\n",
            "  3.90000000e-01 -8.00000000e-02 -2.00000000e-02 -2.90000000e-01\n",
            " -5.00000000e-02  3.00000000e-02 -1.60000000e-01 -1.00000000e-02\n",
            "  2.00000000e-02 -2.00000000e-02 -1.00000000e-02 -1.00000000e-02\n",
            " -8.00000000e-02  3.00000000e-02 -1.50000000e-01  1.40000000e-01\n",
            " -2.00000000e-02 -1.50000000e-01 -4.00000000e-02  4.00000000e-02\n",
            "  8.00000000e-02 -3.46944695e-18  2.00000000e-02 -3.46944695e-18\n",
            "  4.00000000e-02 -1.60000000e-01  6.00000000e-02  2.00000000e-01\n",
            " -3.00000000e-02  6.00000000e-02 -1.00000000e-02  6.00000000e-02\n",
            "  9.00000000e-02 -8.00000000e-02  2.00000000e-02 -1.20000000e-01\n",
            " -9.00000000e-02  1.40000000e-01  5.00000000e-02  8.00000000e-02\n",
            "  4.00000000e-02  4.00000000e-02  2.00000000e-02 -1.90000000e-01\n",
            " -5.00000000e-02  3.00000000e-02 -2.00000000e-02  9.00000000e-02\n",
            "  7.00000000e-02  2.00000000e-02 -1.60000000e-01  1.70000000e-01\n",
            " -2.30000000e-01  5.00000000e-02 -1.20000000e-01 -1.30000000e-01\n",
            "  3.46944695e-18 -1.50000000e-01 -6.00000000e-02  3.00000000e-02\n",
            " -7.00000000e-02  1.10000000e-01  3.00000000e-02 -6.00000000e-02\n",
            "  2.70000000e-01  1.60000000e-01 -1.30000000e-01  9.00000000e-02\n",
            " -2.00000000e-01 -7.00000000e-02  6.00000000e-02  1.50000000e-01\n",
            "  2.70000000e-01 -4.00000000e-02  2.00000000e-02  2.80000000e-01\n",
            "  4.00000000e-02  6.00000000e-02 -3.00000000e-02  6.00000000e-02\n",
            " -7.00000000e-02  1.20000000e-01 -9.00000000e-02 -3.46944695e-18\n",
            " -1.50000000e-01 -1.00000000e-01  2.30000000e-01  8.00000000e-02\n",
            "  2.00000000e-01  2.00000000e-02  1.80000000e-01  7.00000000e-02\n",
            "  5.00000000e-02  3.00000000e-02  4.00000000e-02  1.70000000e-01\n",
            " -3.00000000e-02 -3.46944695e-18 -1.00000000e-02 -9.00000000e-02\n",
            " -6.00000000e-02 -7.00000000e-02  9.00000000e-02  5.00000000e-02\n",
            "  1.10000000e-01 -1.60000000e-01 -1.30000000e-01  2.00000000e-02\n",
            "  3.00000000e-02  2.00000000e-01 -3.10000000e-01  7.00000000e-02\n",
            "  3.46944695e-18  3.00000000e-02 -3.10000000e-01 -2.00000000e-02\n",
            "  1.10000000e-01 -8.00000000e-02 -6.00000000e-02 -2.00000000e-02\n",
            "  2.00000000e-02 -1.10000000e-01 -8.00000000e-02 -9.00000000e-02\n",
            "  2.40000000e-01  7.00000000e-02 -2.10000000e-01 -1.60000000e-01\n",
            "  1.70000000e-01 -3.00000000e-02 -2.00000000e-02 -1.00000000e-02\n",
            "  7.00000000e-02 -1.10000000e-01  3.46944695e-18  3.00000000e-02\n",
            " -3.00000000e-02  1.70000000e-01 -3.46944695e-18 -2.00000000e-02\n",
            " -2.10000000e-01 -5.00000000e-02  1.80000000e-01 -7.00000000e-02\n",
            "  9.00000000e-02 -1.00000000e-02 -7.00000000e-02  9.00000000e-02\n",
            "  2.00000000e-01  2.40000000e-01  2.00000000e-02 -2.00000000e-02\n",
            " -2.50000000e-01  1.30000000e-01 -5.00000000e-02 -9.00000000e-02\n",
            "  1.00000000e-02  1.10000000e-01  9.00000000e-02  3.46944695e-18\n",
            "  7.00000000e-02  4.00000000e-02  6.00000000e-02  2.00000000e-02\n",
            " -1.50000000e-01  2.00000000e-02 -3.46944695e-18 -5.00000000e-02\n",
            "  1.30000000e-01 -4.00000000e-01  1.00000000e-01 -1.20000000e-01\n",
            " -3.00000000e-02 -4.00000000e-02 -1.00000000e-02 -7.00000000e-02\n",
            " -1.30000000e-01 -2.20000000e-01 -8.00000000e-02  5.00000000e-02\n",
            "  7.00000000e-02  5.00000000e-02  1.30000000e-01  7.00000000e-02\n",
            " -1.00000000e-02  8.00000000e-02 -2.40000000e-01 -3.00000000e-02\n",
            "  9.00000000e-02 -5.00000000e-02 -3.00000000e-02 -7.00000000e-02\n",
            " -7.00000000e-02  1.00000000e-02  2.00000000e-02  1.00000000e-02\n",
            " -5.00000000e-02  3.00000000e-02 -7.00000000e-02 -6.00000000e-02\n",
            " -8.00000000e-02 -1.00000000e-01 -1.70000000e-01 -3.20000000e-01\n",
            " -1.20000000e-01 -1.10000000e-01  1.20000000e-01  1.10000000e-01\n",
            " -1.00000000e-02 -3.46944695e-18 -1.80000000e-01 -3.00000000e-02\n",
            "  1.80000000e-01  8.00000000e-02 -3.00000000e-02  1.90000000e-01\n",
            " -1.30000000e-01  1.50000000e-01 -1.20000000e-01 -1.60000000e-01\n",
            " -1.10000000e-01 -1.00000000e-02  6.00000000e-02  1.30000000e-01\n",
            " -3.00000000e-02  6.00000000e-02 -3.46944695e-18 -2.00000000e-02\n",
            " -1.70000000e-01 -1.00000000e-01  2.00000000e-02  3.00000000e-02\n",
            "  1.00000000e-01  2.00000000e-02  6.00000000e-02 -6.00000000e-02\n",
            "  6.00000000e-02  1.00000000e-01 -1.10000000e-01 -1.00000000e-01\n",
            "  8.00000000e-02  1.50000000e-01 -2.10000000e-01 -1.40000000e-01\n",
            "  8.00000000e-02  8.00000000e-02 -2.00000000e-02  1.00000000e-02\n",
            "  1.00000000e-02  1.20000000e-01  1.00000000e-01 -4.00000000e-02\n",
            " -3.00000000e-02 -3.46944695e-18  6.00000000e-02 -1.00000000e-01\n",
            "  1.30000000e-01  2.00000000e-01 -4.00000000e-02 -1.90000000e-01\n",
            "  1.40000000e-01  2.10000000e-01  6.00000000e-02 -1.60000000e-01\n",
            "  6.00000000e-02  5.00000000e-02 -1.00000000e-02 -5.00000000e-02\n",
            "  2.00000000e-02 -4.00000000e-02  2.30000000e-01  2.00000000e-02\n",
            "  2.00000000e-02  4.00000000e-02 -1.10000000e-01 -1.80000000e-01\n",
            "  3.46944695e-18  6.00000000e-02  1.10000000e-01 -3.00000000e-02\n",
            "  5.00000000e-02  1.10000000e-01 -6.00000000e-02 -1.90000000e-01\n",
            " -1.30000000e-01  3.00000000e-02 -4.00000000e-02  2.00000000e-02\n",
            " -1.00000000e-02  2.00000000e-02 -3.00000000e-02  2.80000000e-01\n",
            "  5.00000000e-02  7.00000000e-02 -1.60000000e-01  2.00000000e-02\n",
            " -2.70000000e-01 -9.00000000e-02  1.70000000e-01  2.20000000e-01\n",
            " -5.00000000e-02  1.20000000e-01 -3.00000000e-02  1.40000000e-01\n",
            "  6.00000000e-02 -4.50000000e-01  7.00000000e-02  2.20000000e-01\n",
            "  1.30000000e-01  5.00000000e-02  5.00000000e-02  2.00000000e-02\n",
            "  1.30000000e-01  5.00000000e-02  1.30000000e-01  1.20000000e-01\n",
            " -1.40000000e-01 -1.00000000e-02 -1.60000000e-01 -5.00000000e-02\n",
            " -4.00000000e-02 -2.20000000e-01 -2.00000000e-02  5.00000000e-02\n",
            " -5.00000000e-02 -8.00000000e-02 -6.00000000e-02 -1.00000000e-02\n",
            " -1.70000000e-01  2.10000000e-01  2.00000000e-02 -7.00000000e-02\n",
            "  5.00000000e-02 -7.00000000e-02  1.00000000e-02 -2.00000000e-02\n",
            " -9.00000000e-02 -5.00000000e-02 -1.10000000e-01  1.00000000e-01\n",
            " -6.00000000e-02  1.20000000e-01 -1.00000000e-02 -4.00000000e-02\n",
            " -8.00000000e-02  1.10000000e-01 -1.60000000e-01 -5.00000000e-02\n",
            "  4.00000000e-02  1.40000000e-01 -3.46944695e-18  1.60000000e-01\n",
            "  1.00000000e-01  2.60000000e-01 -8.00000000e-02  2.00000000e-01\n",
            "  1.70000000e-01  3.46944695e-18  1.20000000e-01  1.20000000e-01\n",
            " -1.70000000e-01 -1.00000000e-02 -6.00000000e-02  4.00000000e-02\n",
            "  1.70000000e-01  4.00000000e-02  2.00000000e-01 -1.00000000e-02\n",
            "  4.00000000e-02 -3.00000000e-02 -2.00000000e-02 -1.90000000e-01\n",
            "  1.00000000e-02 -1.10000000e-01 -1.00000000e-02 -1.30000000e-01\n",
            "  6.00000000e-02  1.00000000e-02  1.10000000e-01 -1.00000000e-02\n",
            " -3.10000000e-01 -2.00000000e-02  1.00000000e-01 -1.00000000e-02\n",
            "  7.00000000e-02 -1.20000000e-01  7.00000000e-02  3.00000000e-01\n",
            "  2.00000000e-02  2.00000000e-02  3.00000000e-02  1.00000000e-02\n",
            "  4.00000000e-02 -2.50000000e-01  2.00000000e-01  7.00000000e-02\n",
            "  1.00000000e-02  1.40000000e-01  1.00000000e-02  2.00000000e-02\n",
            "  1.00000000e-01  6.00000000e-02 -1.30000000e-01 -1.10000000e-01\n",
            "  3.46944695e-18  1.40000000e-01  4.00000000e-02  1.50000000e-01\n",
            " -2.90000000e-01 -3.46944695e-18 -3.00000000e-02 -7.00000000e-02\n",
            "  1.00000000e-02  6.00000000e-02 -3.00000000e-02 -3.00000000e-02\n",
            "  9.00000000e-02 -1.50000000e-01 -1.00000000e-01 -4.00000000e-02\n",
            " -8.00000000e-02  2.20000000e-01 -1.20000000e-01  3.46944695e-18\n",
            " -1.00000000e-02 -2.00000000e-02 -1.20000000e-01  3.00000000e-02\n",
            " -1.20000000e-01 -1.20000000e-01 -1.00000000e-01 -1.40000000e-01\n",
            "  6.00000000e-02 -4.00000000e-02 -3.46944695e-18 -9.00000000e-02\n",
            "  1.60000000e-01 -3.00000000e-02  5.00000000e-02  1.00000000e-02\n",
            " -1.10000000e-01  5.00000000e-02  2.50000000e-01  5.00000000e-02\n",
            " -2.00000000e-02 -4.00000000e-01  1.70000000e-01 -9.00000000e-02\n",
            " -7.00000000e-02  5.00000000e-02  8.00000000e-02 -1.00000000e-01\n",
            " -4.00000000e-02  2.00000000e-01 -6.00000000e-02  2.00000000e-02\n",
            " -5.00000000e-02  9.00000000e-02  8.00000000e-02  1.20000000e-01]\n"
          ],
          "name": "stdout"
        },
        {
          "output_type": "display_data",
          "data": {
            "image/png": "[encoded data removed]",
            "text/plain": [
              "<Figure size 432x288 with 1 Axes>"
            ]
          },
          "metadata": {
            "tags": [],
            "needs_background": "light"
          }
        }
      ]
    },
    {
      "cell_type": "code",
      "metadata": {
        "id": "IY1a1hYzULMF",
        "colab": {
          "base_uri": "https://localhost:8080/",
          "height": 1000
        },
        "outputId": "f378f87b-a24b-49ea-9f75-3d65729ffa84"
      },
      "source": [
        "#doing the same loss function for the testing sets now:\n",
        "plot_test = print(p.loss_plt(x_test, y_test))"
      ],
      "execution_count": null,
      "outputs": [
        {
          "output_type": "stream",
          "text": [
            "[ 0.00000000e+00 -5.00000000e-02 -1.80000000e-01 -1.20000000e-01\n",
            " -1.30000000e-01  5.00000000e-02  1.70000000e-01  5.00000000e-02\n",
            " -2.00000000e-02 -4.00000000e-02 -8.00000000e-02 -9.00000000e-02\n",
            "  1.10000000e-01  1.20000000e-01 -4.00000000e-02  2.00000000e-02\n",
            " -7.00000000e-02 -4.00000000e-02  1.20000000e-01 -1.10000000e-01\n",
            " -2.00000000e-01 -3.00000000e-02  1.10000000e-01  1.20000000e-01\n",
            "  2.00000000e-02  1.00000000e-02 -8.00000000e-02  3.46944695e-18\n",
            "  9.00000000e-02 -1.00000000e-02  1.50000000e-01  1.10000000e-01\n",
            "  1.70000000e-01 -3.46944695e-18  8.00000000e-02  1.90000000e-01\n",
            "  1.00000000e-01  6.00000000e-02 -1.00000000e-02 -1.00000000e-02\n",
            "  1.80000000e-01 -2.50000000e-01  9.00000000e-02 -7.00000000e-02\n",
            "  1.10000000e-01 -1.30000000e-01 -1.70000000e-01  5.00000000e-02\n",
            " -4.00000000e-02 -7.00000000e-02  2.00000000e-02 -4.00000000e-02\n",
            " -1.20000000e-01 -6.00000000e-02  3.00000000e-02  7.00000000e-02\n",
            "  1.00000000e-02  7.00000000e-02 -1.20000000e-01 -1.60000000e-01\n",
            "  2.00000000e-01 -5.00000000e-02  7.00000000e-02 -1.00000000e-02\n",
            " -5.10000000e-01  1.20000000e-01 -1.50000000e-01 -3.10000000e-01\n",
            "  1.00000000e-01 -3.00000000e-02 -1.20000000e-01 -8.00000000e-02\n",
            "  4.00000000e-02  1.30000000e-01  1.30000000e-01 -7.00000000e-02\n",
            " -8.00000000e-02  9.00000000e-02  8.00000000e-02  1.70000000e-01\n",
            "  9.00000000e-02  1.00000000e-02  2.50000000e-01  2.00000000e-01\n",
            "  6.00000000e-02  3.00000000e-02  3.00000000e-02 -1.70000000e-01\n",
            "  1.80000000e-01  7.00000000e-02 -4.00000000e-02 -2.00000000e-02\n",
            " -1.30000000e-01  6.00000000e-02  1.00000000e-01 -4.00000000e-02\n",
            " -3.90000000e-01 -1.50000000e-01 -8.00000000e-02  1.60000000e-01\n",
            " -4.00000000e-02  2.20000000e-01  1.20000000e-01  5.00000000e-02\n",
            " -4.00000000e-02 -1.00000000e-02 -1.00000000e-02  1.10000000e-01\n",
            " -6.00000000e-02 -1.20000000e-01 -5.00000000e-02 -1.20000000e-01\n",
            "  1.40000000e-01  8.00000000e-02  3.46944695e-18 -4.00000000e-02\n",
            " -5.00000000e-02  1.80000000e-01 -2.00000000e-02 -6.00000000e-02\n",
            " -1.60000000e-01 -1.90000000e-01  1.00000000e-02  3.00000000e-02\n",
            "  1.00000000e-02  7.00000000e-02 -1.00000000e-02 -8.00000000e-02\n",
            "  4.00000000e-02 -1.10000000e-01 -7.00000000e-02 -3.00000000e-02\n",
            "  1.10000000e-01  3.20000000e-01 -2.00000000e-02 -6.00000000e-02\n",
            " -5.00000000e-02 -6.00000000e-02 -1.40000000e-01  2.20000000e-01\n",
            " -5.00000000e-02 -2.30000000e-01  1.00000000e-02  4.00000000e-02\n",
            "  7.00000000e-02 -5.00000000e-02  4.00000000e-02 -4.00000000e-02\n",
            "  2.60000000e-01  1.80000000e-01  3.00000000e-02  6.00000000e-02\n",
            "  1.60000000e-01 -5.00000000e-02 -3.46944695e-18 -1.00000000e-02\n",
            "  2.00000000e-02  1.00000000e-02 -4.00000000e-02 -1.00000000e-01\n",
            " -1.00000000e-02  2.00000000e-02 -7.00000000e-02 -3.46944695e-18\n",
            "  4.00000000e-02 -6.00000000e-02  2.00000000e-02 -2.00000000e-02\n",
            "  5.00000000e-02  3.46944695e-18 -3.46944695e-18 -2.00000000e-02\n",
            " -4.00000000e-02 -1.10000000e-01  1.00000000e-02 -8.00000000e-02\n",
            " -1.00000000e-02  2.20000000e-01 -3.00000000e-02  1.00000000e-01\n",
            " -1.00000000e-02 -2.00000000e-02 -5.00000000e-02  9.00000000e-02\n",
            " -7.00000000e-02 -1.00000000e-01  5.00000000e-02  6.00000000e-02\n",
            "  1.30000000e-01  6.00000000e-02  3.00000000e-02  1.00000000e-01\n",
            "  3.00000000e-02  1.00000000e-02  2.00000000e-02  1.00000000e-02\n",
            "  4.00000000e-02 -1.40000000e-01  8.00000000e-02  4.00000000e-02\n",
            "  3.00000000e-02  3.10000000e-01  1.70000000e-01  4.00000000e-02\n",
            "  2.00000000e-02  1.10000000e-01  1.50000000e-01 -3.00000000e-02\n",
            " -1.30000000e-01  2.40000000e-01  6.00000000e-02 -2.00000000e-02\n",
            "  6.00000000e-02 -1.50000000e-01  1.50000000e-01 -1.40000000e-01\n",
            " -7.00000000e-02 -3.00000000e-02  1.00000000e-02  1.10000000e-01\n",
            " -3.46944695e-18  1.20000000e-01  2.00000000e-02 -3.00000000e-02\n",
            "  1.30000000e-01  8.00000000e-02 -1.10000000e-01 -1.80000000e-01\n",
            " -4.00000000e-02  2.00000000e-02 -4.00000000e-02  2.00000000e-01\n",
            "  1.00000000e-01  1.80000000e-01 -1.00000000e-02 -3.00000000e-02\n",
            "  1.40000000e-01  7.00000000e-02  1.00000000e-01 -1.00000000e-01\n",
            " -2.00000000e-02 -9.00000000e-02 -8.00000000e-02  6.00000000e-02\n",
            " -2.00000000e-02  9.00000000e-02 -1.00000000e-02  2.00000000e-02\n",
            " -5.00000000e-02  6.00000000e-02  1.90000000e-01 -1.60000000e-01\n",
            "  1.40000000e-01  7.00000000e-02 -8.00000000e-02 -4.00000000e-02\n",
            "  4.00000000e-02  2.20000000e-01  7.00000000e-02  2.00000000e-02\n",
            " -9.00000000e-02  2.20000000e-01  4.00000000e-02  7.00000000e-02\n",
            "  1.20000000e-01  1.60000000e-01  8.00000000e-02  5.00000000e-02\n",
            "  1.30000000e-01  2.50000000e-01 -5.00000000e-02  1.30000000e-01\n",
            "  8.00000000e-02 -2.00000000e-02  1.80000000e-01  1.50000000e-01\n",
            "  1.60000000e-01 -3.46944695e-18  6.00000000e-02 -1.00000000e-02\n",
            " -1.50000000e-01  3.10000000e-01 -1.20000000e-01 -9.00000000e-02\n",
            " -5.00000000e-02  9.00000000e-02 -1.00000000e-02 -7.00000000e-02\n",
            " -6.00000000e-02  3.46944695e-18  1.00000000e-01  1.20000000e-01\n",
            "  3.00000000e-02  5.00000000e-02  1.40000000e-01  1.50000000e-01\n",
            " -6.00000000e-02 -9.00000000e-02  1.20000000e-01  3.00000000e-02\n",
            " -1.80000000e-01  1.50000000e-01 -2.00000000e-02 -9.00000000e-02\n",
            " -4.00000000e-02  3.00000000e-02  2.00000000e-02 -2.00000000e-01\n",
            "  1.00000000e-02  2.00000000e-02  5.00000000e-02  2.00000000e-02\n",
            "  1.30000000e-01  6.00000000e-02  1.10000000e-01  8.00000000e-02\n",
            "  1.10000000e-01 -2.90000000e-01 -1.50000000e-01 -6.00000000e-02\n",
            "  7.00000000e-02  2.00000000e-02  2.20000000e-01  2.00000000e-02\n",
            " -2.00000000e-02  6.00000000e-02 -4.00000000e-02 -4.00000000e-02\n",
            "  1.00000000e-02  2.00000000e-01  2.00000000e-01 -1.00000000e-01\n",
            " -5.00000000e-02 -6.00000000e-02  4.00000000e-02  3.46944695e-18\n",
            " -1.00000000e-01  2.30000000e-01  3.46944695e-18 -4.00000000e-02\n",
            "  8.00000000e-02  5.00000000e-02  1.60000000e-01  1.20000000e-01\n",
            "  3.00000000e-02  1.00000000e-02 -8.00000000e-02 -6.00000000e-02\n",
            " -1.50000000e-01 -8.00000000e-02 -1.00000000e-02 -2.00000000e-02\n",
            " -8.00000000e-02 -1.90000000e-01  1.40000000e-01 -1.80000000e-01\n",
            "  1.70000000e-01 -3.00000000e-02  7.00000000e-02  9.00000000e-02\n",
            " -4.00000000e-02 -1.00000000e-02  9.00000000e-02 -7.00000000e-02\n",
            "  1.30000000e-01 -1.30000000e-01  1.30000000e-01  7.00000000e-02\n",
            "  3.00000000e-02  3.46944695e-18 -5.00000000e-02  1.50000000e-01\n",
            " -1.00000000e-02  6.00000000e-02 -4.00000000e-02 -6.00000000e-02\n",
            "  9.00000000e-02 -1.00000000e-02 -8.00000000e-02  1.60000000e-01\n",
            "  3.46944695e-18 -1.00000000e-01 -4.00000000e-02 -1.00000000e-02\n",
            " -3.46944695e-18  4.00000000e-02  3.46944695e-18  3.00000000e-02\n",
            "  1.10000000e-01  1.20000000e-01 -3.46944695e-18 -4.00000000e-02\n",
            "  2.00000000e-02  2.50000000e-01  2.80000000e-01 -3.46944695e-18\n",
            " -1.00000000e-02 -7.00000000e-02 -3.46944695e-18  3.00000000e-02\n",
            "  1.40000000e-01 -7.00000000e-02 -9.00000000e-02  1.00000000e-02\n",
            "  8.00000000e-02  3.00000000e-02 -2.00000000e-02 -1.50000000e-01\n",
            "  1.00000000e-02  1.10000000e-01 -1.00000000e-01  6.00000000e-02\n",
            "  1.20000000e-01  7.00000000e-02 -7.00000000e-02 -1.60000000e-01\n",
            "  2.00000000e-02  8.00000000e-02 -4.00000000e-02 -6.00000000e-02\n",
            " -7.00000000e-02  8.00000000e-02  4.00000000e-02  1.20000000e-01\n",
            "  4.00000000e-02  3.46944695e-18 -5.00000000e-02  1.00000000e-01\n",
            "  1.50000000e-01 -2.30000000e-01  9.00000000e-02 -6.00000000e-02\n",
            " -9.00000000e-02  3.46944695e-18  1.10000000e-01 -8.00000000e-02\n",
            " -6.00000000e-02  1.20000000e-01 -1.00000000e-02  2.20000000e-01\n",
            " -3.00000000e-02 -1.00000000e-02  2.00000000e-01  1.50000000e-01\n",
            "  1.10000000e-01 -6.00000000e-02 -5.00000000e-02 -3.00000000e-02\n",
            "  1.40000000e-01  1.90000000e-01 -1.80000000e-01  6.00000000e-02\n",
            " -3.00000000e-02 -2.00000000e-02  1.00000000e-02 -1.30000000e-01\n",
            "  5.00000000e-02  2.00000000e-02  1.20000000e-01 -2.00000000e-02\n",
            " -7.00000000e-02  1.00000000e-01  7.00000000e-02  3.00000000e-02\n",
            " -1.00000000e-02  3.00000000e-02  6.00000000e-02 -3.00000000e-02\n",
            " -1.10000000e-01 -7.00000000e-02  9.00000000e-02  1.40000000e-01\n",
            " -4.00000000e-02  1.00000000e-01 -2.00000000e-02  4.00000000e-02\n",
            "  5.00000000e-02  2.00000000e-02  3.46944695e-18  8.00000000e-02\n",
            " -2.00000000e-02  1.00000000e-01 -2.00000000e-01  1.00000000e-02\n",
            "  1.10000000e-01  3.00000000e-02  3.46944695e-18 -7.00000000e-02\n",
            "  1.10000000e-01 -2.00000000e-02  8.00000000e-02  1.40000000e-01\n",
            "  1.10000000e-01 -1.00000000e-01  1.00000000e-02 -1.00000000e-01\n",
            "  4.00000000e-02  1.10000000e-01 -1.10000000e-01 -2.00000000e-02\n",
            " -7.00000000e-02 -4.00000000e-02  3.00000000e-02  1.10000000e-01\n",
            " -9.00000000e-02 -7.00000000e-02 -4.00000000e-02 -5.00000000e-02\n",
            " -1.10000000e-01 -4.00000000e-02  1.00000000e-02  6.00000000e-02\n",
            " -1.00000000e-02  1.00000000e-02  6.00000000e-02  3.46944695e-18\n",
            " -1.30000000e-01  1.20000000e-01  2.00000000e-02  3.00000000e-02\n",
            "  3.00000000e-02  4.00000000e-02  3.00000000e-02  2.00000000e-02\n",
            " -4.00000000e-02  9.00000000e-02  4.00000000e-02  9.00000000e-02\n",
            " -1.70000000e-01  8.00000000e-02 -8.00000000e-02  8.00000000e-02\n",
            " -2.00000000e-01  2.00000000e-02  1.30000000e-01  5.00000000e-02\n",
            " -1.00000000e-02  3.00000000e-02 -5.00000000e-02 -1.50000000e-01\n",
            "  4.00000000e-01 -5.00000000e-02 -2.00000000e-02 -2.80000000e-01\n",
            " -5.00000000e-02  4.00000000e-02 -1.50000000e-01  3.46944695e-18\n",
            "  2.00000000e-02 -2.00000000e-02 -3.46944695e-18 -3.46944695e-18\n",
            " -7.00000000e-02  3.00000000e-02 -1.50000000e-01  1.40000000e-01\n",
            " -1.00000000e-02 -1.50000000e-01 -2.00000000e-02  5.00000000e-02\n",
            "  8.00000000e-02  1.00000000e-02  2.00000000e-02 -3.46944695e-18\n",
            "  9.00000000e-02 -1.40000000e-01  1.10000000e-01  2.00000000e-01\n",
            " -2.00000000e-02  1.00000000e-01  3.46944695e-18  6.00000000e-02\n",
            "  1.10000000e-01 -7.00000000e-02  2.00000000e-02 -1.20000000e-01\n",
            " -9.00000000e-02  1.50000000e-01  5.00000000e-02  9.00000000e-02\n",
            "  5.00000000e-02  5.00000000e-02  2.00000000e-02 -1.60000000e-01\n",
            " -1.00000000e-02  6.00000000e-02 -1.00000000e-02  1.00000000e-01\n",
            "  7.00000000e-02  3.00000000e-02 -1.50000000e-01  1.80000000e-01\n",
            " -2.20000000e-01  5.00000000e-02 -1.10000000e-01 -1.20000000e-01\n",
            "  1.00000000e-02 -1.30000000e-01 -5.00000000e-02  4.00000000e-02\n",
            " -5.00000000e-02  1.10000000e-01  5.00000000e-02  3.46944695e-18\n",
            "  2.80000000e-01  1.60000000e-01 -1.10000000e-01  9.00000000e-02\n",
            " -1.80000000e-01 -6.00000000e-02  6.00000000e-02  1.50000000e-01\n",
            "  2.90000000e-01 -3.00000000e-02  2.00000000e-02  2.80000000e-01\n",
            "  5.00000000e-02  6.00000000e-02 -1.00000000e-02  6.00000000e-02\n",
            " -6.00000000e-02  1.30000000e-01 -9.00000000e-02  1.00000000e-02\n",
            " -1.50000000e-01 -1.00000000e-01  2.70000000e-01  1.00000000e-01\n",
            "  2.10000000e-01  5.00000000e-02  1.90000000e-01  8.00000000e-02\n",
            "  5.00000000e-02  4.00000000e-02  5.00000000e-02  1.80000000e-01\n",
            " -1.00000000e-02  2.00000000e-02  3.46944695e-18 -9.00000000e-02\n",
            " -6.00000000e-02 -4.00000000e-02  1.00000000e-01  7.00000000e-02\n",
            "  1.10000000e-01 -1.20000000e-01 -1.20000000e-01  2.00000000e-02\n",
            "  4.00000000e-02  2.00000000e-01 -3.10000000e-01  8.00000000e-02\n",
            "  1.00000000e-02  3.00000000e-02 -3.10000000e-01 -2.00000000e-02\n",
            "  1.10000000e-01 -7.00000000e-02 -5.00000000e-02 -2.00000000e-02\n",
            "  2.00000000e-02 -9.00000000e-02 -8.00000000e-02 -9.00000000e-02\n",
            "  2.50000000e-01  9.00000000e-02 -2.00000000e-01 -1.50000000e-01\n",
            "  1.80000000e-01 -3.00000000e-02 -2.00000000e-02 -1.00000000e-02\n",
            "  8.00000000e-02 -1.10000000e-01  2.00000000e-02  3.00000000e-02\n",
            " -3.00000000e-02  1.70000000e-01  1.00000000e-02 -1.00000000e-02\n",
            " -2.00000000e-01 -5.00000000e-02  1.90000000e-01 -7.00000000e-02\n",
            "  1.10000000e-01 -3.46944695e-18 -6.00000000e-02  1.30000000e-01\n",
            "  2.00000000e-01  2.40000000e-01  2.00000000e-02 -1.00000000e-02\n",
            " -2.20000000e-01  1.30000000e-01 -5.00000000e-02 -8.00000000e-02\n",
            "  3.00000000e-02  1.20000000e-01  9.00000000e-02  3.46944695e-18\n",
            "  7.00000000e-02  6.00000000e-02  7.00000000e-02  2.00000000e-02\n",
            " -1.40000000e-01  3.00000000e-02  1.00000000e-02 -5.00000000e-02\n",
            "  1.30000000e-01 -4.00000000e-01  1.20000000e-01 -1.00000000e-01\n",
            " -2.00000000e-02 -4.00000000e-02 -1.00000000e-02 -6.00000000e-02\n",
            " -1.00000000e-01 -2.00000000e-01 -6.00000000e-02  5.00000000e-02\n",
            "  8.00000000e-02  7.00000000e-02  1.40000000e-01  8.00000000e-02\n",
            " -1.00000000e-02  8.00000000e-02 -2.30000000e-01 -2.00000000e-02\n",
            "  1.00000000e-01 -5.00000000e-02 -1.00000000e-02 -7.00000000e-02\n",
            " -3.00000000e-02  3.00000000e-02  4.00000000e-02  1.00000000e-02\n",
            " -5.00000000e-02  3.00000000e-02 -6.00000000e-02 -5.00000000e-02\n",
            " -5.00000000e-02 -1.00000000e-01 -1.60000000e-01 -2.90000000e-01\n",
            " -1.20000000e-01 -1.00000000e-01  1.30000000e-01  1.30000000e-01\n",
            " -1.00000000e-02  2.00000000e-02 -1.60000000e-01  3.46944695e-18\n",
            "  2.00000000e-01  8.00000000e-02 -3.00000000e-02  2.00000000e-01\n",
            " -1.30000000e-01  1.60000000e-01 -1.00000000e-01 -1.40000000e-01\n",
            " -1.00000000e-01 -1.00000000e-02  7.00000000e-02  1.30000000e-01\n",
            " -3.00000000e-02  6.00000000e-02  3.00000000e-02  3.46944695e-18\n",
            " -1.60000000e-01 -1.00000000e-01  2.00000000e-02  3.00000000e-02\n",
            "  1.10000000e-01  3.00000000e-02  6.00000000e-02 -6.00000000e-02\n",
            "  7.00000000e-02  1.00000000e-01 -1.00000000e-01 -1.00000000e-01\n",
            "  9.00000000e-02  1.50000000e-01 -2.00000000e-01 -1.30000000e-01\n",
            "  8.00000000e-02  9.00000000e-02 -1.00000000e-02  1.00000000e-02\n",
            "  2.00000000e-02  1.20000000e-01  1.00000000e-01 -4.00000000e-02\n",
            " -3.00000000e-02  1.00000000e-02  6.00000000e-02 -9.00000000e-02\n",
            "  1.30000000e-01  2.10000000e-01 -3.00000000e-02 -1.80000000e-01\n",
            "  1.70000000e-01  2.20000000e-01  7.00000000e-02 -1.60000000e-01\n",
            "  6.00000000e-02  7.00000000e-02  2.00000000e-02 -4.00000000e-02\n",
            "  3.00000000e-02 -4.00000000e-02  2.30000000e-01  2.00000000e-02\n",
            "  4.00000000e-02  4.00000000e-02 -1.00000000e-01 -1.80000000e-01\n",
            "  2.00000000e-02  6.00000000e-02  1.10000000e-01 -2.00000000e-02\n",
            "  6.00000000e-02  1.10000000e-01 -5.00000000e-02 -1.80000000e-01\n",
            " -1.30000000e-01  6.00000000e-02 -3.00000000e-02  3.00000000e-02\n",
            " -3.46944695e-18  4.00000000e-02 -2.00000000e-02  2.80000000e-01\n",
            "  5.00000000e-02  7.00000000e-02 -1.60000000e-01  2.00000000e-02\n",
            " -2.60000000e-01 -8.00000000e-02  1.80000000e-01  2.20000000e-01\n",
            " -5.00000000e-02  1.20000000e-01 -3.00000000e-02  1.40000000e-01\n",
            "  7.00000000e-02 -4.20000000e-01  8.00000000e-02  2.30000000e-01\n",
            "  1.30000000e-01  5.00000000e-02  5.00000000e-02  5.00000000e-02\n",
            "  1.40000000e-01  6.00000000e-02  1.40000000e-01  1.30000000e-01\n",
            " -1.40000000e-01  3.46944695e-18 -1.60000000e-01 -4.00000000e-02\n",
            " -4.00000000e-02 -2.10000000e-01 -1.00000000e-02  7.00000000e-02\n",
            " -5.00000000e-02 -7.00000000e-02 -6.00000000e-02  1.00000000e-02\n",
            " -1.70000000e-01  2.10000000e-01  4.00000000e-02 -7.00000000e-02\n",
            "  6.00000000e-02 -4.00000000e-02  3.00000000e-02 -1.00000000e-02\n",
            " -5.00000000e-02 -2.00000000e-02 -1.10000000e-01  1.10000000e-01\n",
            " -6.00000000e-02  1.30000000e-01 -1.00000000e-02 -1.00000000e-02\n",
            " -8.00000000e-02  1.10000000e-01 -1.40000000e-01 -2.00000000e-02\n",
            "  6.00000000e-02  1.40000000e-01 -3.46944695e-18  1.70000000e-01\n",
            "  1.00000000e-01  2.60000000e-01 -8.00000000e-02  2.00000000e-01\n",
            "  1.70000000e-01  3.46944695e-18  1.30000000e-01  1.30000000e-01\n",
            " -1.70000000e-01 -1.00000000e-02 -5.00000000e-02  4.00000000e-02\n",
            "  2.00000000e-01  7.00000000e-02  2.10000000e-01 -3.46944695e-18\n",
            "  5.00000000e-02  3.46944695e-18 -1.00000000e-02 -1.80000000e-01\n",
            "  2.00000000e-02 -1.00000000e-01  5.00000000e-02 -1.30000000e-01\n",
            "  7.00000000e-02  1.00000000e-02  1.10000000e-01 -3.46944695e-18\n",
            " -3.00000000e-01 -2.00000000e-02  1.10000000e-01  3.46944695e-18\n",
            "  9.00000000e-02 -1.20000000e-01  8.00000000e-02  3.00000000e-01\n",
            "  4.00000000e-02  4.00000000e-02  3.00000000e-02  1.00000000e-02\n",
            "  4.00000000e-02 -2.40000000e-01  2.00000000e-01  7.00000000e-02\n",
            "  2.00000000e-02  1.60000000e-01  3.00000000e-02  2.00000000e-02\n",
            "  1.10000000e-01  7.00000000e-02 -1.20000000e-01 -8.00000000e-02\n",
            "  3.46944695e-18  1.50000000e-01  6.00000000e-02  1.60000000e-01\n",
            " -2.90000000e-01  1.00000000e-02 -2.00000000e-02 -7.00000000e-02\n",
            "  6.00000000e-02  6.00000000e-02 -2.00000000e-02 -3.00000000e-02\n",
            "  1.20000000e-01 -1.40000000e-01 -1.00000000e-01 -3.00000000e-02\n",
            " -7.00000000e-02  2.30000000e-01 -1.00000000e-01  1.00000000e-02\n",
            "  3.46944695e-18 -3.46944695e-18 -1.10000000e-01  3.00000000e-02\n",
            " -1.00000000e-01 -1.20000000e-01 -9.00000000e-02 -1.30000000e-01\n",
            "  7.00000000e-02 -2.00000000e-02  2.00000000e-02 -9.00000000e-02\n",
            "  1.70000000e-01 -2.00000000e-02  5.00000000e-02  2.00000000e-02\n",
            " -8.00000000e-02  7.00000000e-02  2.50000000e-01  6.00000000e-02\n",
            "  3.46944695e-18 -4.00000000e-01  1.80000000e-01 -5.00000000e-02\n",
            " -7.00000000e-02  5.00000000e-02  8.00000000e-02 -9.00000000e-02\n",
            " -4.00000000e-02  2.00000000e-01 -6.00000000e-02  4.00000000e-02\n",
            " -2.00000000e-02  1.30000000e-01  8.00000000e-02  1.30000000e-01]\n"
          ],
          "name": "stdout"
        },
        {
          "output_type": "display_data",
          "data": {
            "image/png": "[encoded data removed]",
            "text/plain": [
              "<Figure size 432x288 with 1 Axes>"
            ]
          },
          "metadata": {
            "tags": [],
            "needs_background": "light"
          }
        }
      ]
    }
  ]
}